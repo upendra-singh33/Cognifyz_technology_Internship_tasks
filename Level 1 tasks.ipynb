{
 "cells": [
  {
   "cell_type": "markdown",
   "id": "d40d32ce-0672-400f-9136-e6b114bac51f",
   "metadata": {},
   "source": [
    "# **COGNIFYZ TECHNOLOGY INTERNSHIP TASKS**"
   ]
  },
  {
   "cell_type": "markdown",
   "id": "6b1f690a-c62a-44b5-be19-2f38658399bc",
   "metadata": {},
   "source": [
    "## **LEVEL 1**"
   ]
  },
  {
   "cell_type": "code",
   "execution_count": 27,
   "id": "862d1815-1a9f-4a0d-ae5d-f76aa7cb9a50",
   "metadata": {},
   "outputs": [],
   "source": [
    "import pandas as pd"
   ]
  },
  {
   "cell_type": "markdown",
   "id": "7997e75a-86ea-4281-aab0-d792a40b11d0",
   "metadata": {},
   "source": [
    "# Load the dataset to inspect its structure and contents"
   ]
  },
  {
   "cell_type": "code",
   "execution_count": 28,
   "id": "ce9fc5ab-b8a0-43b1-8745-9445f30701a9",
   "metadata": {},
   "outputs": [],
   "source": [
    "dataset_path = 'Dataset.csv'\n",
    "data = pd.read_csv(dataset_path)\n"
   ]
  },
  {
   "cell_type": "markdown",
   "id": "fa29266e-26e4-4920-8482-7c04f805a0ac",
   "metadata": {},
   "source": [
    "# Display the first few rows and basic info of the dataset"
   ]
  },
  {
   "cell_type": "code",
   "execution_count": 29,
   "id": "1ba2343e-2c0e-4f0e-a89b-52d02da73212",
   "metadata": {
    "scrolled": true
   },
   "outputs": [
    {
     "data": {
      "text/html": [
       "<div>\n",
       "<style scoped>\n",
       "    .dataframe tbody tr th:only-of-type {\n",
       "        vertical-align: middle;\n",
       "    }\n",
       "\n",
       "    .dataframe tbody tr th {\n",
       "        vertical-align: top;\n",
       "    }\n",
       "\n",
       "    .dataframe thead th {\n",
       "        text-align: right;\n",
       "    }\n",
       "</style>\n",
       "<table border=\"1\" class=\"dataframe\">\n",
       "  <thead>\n",
       "    <tr style=\"text-align: right;\">\n",
       "      <th></th>\n",
       "      <th>Restaurant ID</th>\n",
       "      <th>Restaurant Name</th>\n",
       "      <th>Country Code</th>\n",
       "      <th>City</th>\n",
       "      <th>Address</th>\n",
       "      <th>Locality</th>\n",
       "      <th>Locality Verbose</th>\n",
       "      <th>Longitude</th>\n",
       "      <th>Latitude</th>\n",
       "      <th>Cuisines</th>\n",
       "      <th>...</th>\n",
       "      <th>Currency</th>\n",
       "      <th>Has Table booking</th>\n",
       "      <th>Has Online delivery</th>\n",
       "      <th>Is delivering now</th>\n",
       "      <th>Switch to order menu</th>\n",
       "      <th>Price range</th>\n",
       "      <th>Aggregate rating</th>\n",
       "      <th>Rating color</th>\n",
       "      <th>Rating text</th>\n",
       "      <th>Votes</th>\n",
       "    </tr>\n",
       "  </thead>\n",
       "  <tbody>\n",
       "    <tr>\n",
       "      <th>0</th>\n",
       "      <td>6317637</td>\n",
       "      <td>Le Petit Souffle</td>\n",
       "      <td>162</td>\n",
       "      <td>Makati City</td>\n",
       "      <td>Third Floor, Century City Mall, Kalayaan Avenu...</td>\n",
       "      <td>Century City Mall, Poblacion, Makati City</td>\n",
       "      <td>Century City Mall, Poblacion, Makati City, Mak...</td>\n",
       "      <td>121.027535</td>\n",
       "      <td>14.565443</td>\n",
       "      <td>French, Japanese, Desserts</td>\n",
       "      <td>...</td>\n",
       "      <td>Botswana Pula(P)</td>\n",
       "      <td>Yes</td>\n",
       "      <td>No</td>\n",
       "      <td>No</td>\n",
       "      <td>No</td>\n",
       "      <td>3</td>\n",
       "      <td>4.8</td>\n",
       "      <td>Dark Green</td>\n",
       "      <td>Excellent</td>\n",
       "      <td>314</td>\n",
       "    </tr>\n",
       "    <tr>\n",
       "      <th>1</th>\n",
       "      <td>6304287</td>\n",
       "      <td>Izakaya Kikufuji</td>\n",
       "      <td>162</td>\n",
       "      <td>Makati City</td>\n",
       "      <td>Little Tokyo, 2277 Chino Roces Avenue, Legaspi...</td>\n",
       "      <td>Little Tokyo, Legaspi Village, Makati City</td>\n",
       "      <td>Little Tokyo, Legaspi Village, Makati City, Ma...</td>\n",
       "      <td>121.014101</td>\n",
       "      <td>14.553708</td>\n",
       "      <td>Japanese</td>\n",
       "      <td>...</td>\n",
       "      <td>Botswana Pula(P)</td>\n",
       "      <td>Yes</td>\n",
       "      <td>No</td>\n",
       "      <td>No</td>\n",
       "      <td>No</td>\n",
       "      <td>3</td>\n",
       "      <td>4.5</td>\n",
       "      <td>Dark Green</td>\n",
       "      <td>Excellent</td>\n",
       "      <td>591</td>\n",
       "    </tr>\n",
       "    <tr>\n",
       "      <th>2</th>\n",
       "      <td>6300002</td>\n",
       "      <td>Heat - Edsa Shangri-La</td>\n",
       "      <td>162</td>\n",
       "      <td>Mandaluyong City</td>\n",
       "      <td>Edsa Shangri-La, 1 Garden Way, Ortigas, Mandal...</td>\n",
       "      <td>Edsa Shangri-La, Ortigas, Mandaluyong City</td>\n",
       "      <td>Edsa Shangri-La, Ortigas, Mandaluyong City, Ma...</td>\n",
       "      <td>121.056831</td>\n",
       "      <td>14.581404</td>\n",
       "      <td>Seafood, Asian, Filipino, Indian</td>\n",
       "      <td>...</td>\n",
       "      <td>Botswana Pula(P)</td>\n",
       "      <td>Yes</td>\n",
       "      <td>No</td>\n",
       "      <td>No</td>\n",
       "      <td>No</td>\n",
       "      <td>4</td>\n",
       "      <td>4.4</td>\n",
       "      <td>Green</td>\n",
       "      <td>Very Good</td>\n",
       "      <td>270</td>\n",
       "    </tr>\n",
       "  </tbody>\n",
       "</table>\n",
       "<p>3 rows × 21 columns</p>\n",
       "</div>"
      ],
      "text/plain": [
       "   Restaurant ID         Restaurant Name  Country Code              City  \\\n",
       "0        6317637        Le Petit Souffle           162       Makati City   \n",
       "1        6304287        Izakaya Kikufuji           162       Makati City   \n",
       "2        6300002  Heat - Edsa Shangri-La           162  Mandaluyong City   \n",
       "\n",
       "                                             Address  \\\n",
       "0  Third Floor, Century City Mall, Kalayaan Avenu...   \n",
       "1  Little Tokyo, 2277 Chino Roces Avenue, Legaspi...   \n",
       "2  Edsa Shangri-La, 1 Garden Way, Ortigas, Mandal...   \n",
       "\n",
       "                                     Locality  \\\n",
       "0   Century City Mall, Poblacion, Makati City   \n",
       "1  Little Tokyo, Legaspi Village, Makati City   \n",
       "2  Edsa Shangri-La, Ortigas, Mandaluyong City   \n",
       "\n",
       "                                    Locality Verbose   Longitude   Latitude  \\\n",
       "0  Century City Mall, Poblacion, Makati City, Mak...  121.027535  14.565443   \n",
       "1  Little Tokyo, Legaspi Village, Makati City, Ma...  121.014101  14.553708   \n",
       "2  Edsa Shangri-La, Ortigas, Mandaluyong City, Ma...  121.056831  14.581404   \n",
       "\n",
       "                           Cuisines  ...          Currency Has Table booking  \\\n",
       "0        French, Japanese, Desserts  ...  Botswana Pula(P)               Yes   \n",
       "1                          Japanese  ...  Botswana Pula(P)               Yes   \n",
       "2  Seafood, Asian, Filipino, Indian  ...  Botswana Pula(P)               Yes   \n",
       "\n",
       "  Has Online delivery Is delivering now Switch to order menu Price range  \\\n",
       "0                  No                No                   No           3   \n",
       "1                  No                No                   No           3   \n",
       "2                  No                No                   No           4   \n",
       "\n",
       "   Aggregate rating  Rating color Rating text Votes  \n",
       "0               4.8    Dark Green   Excellent   314  \n",
       "1               4.5    Dark Green   Excellent   591  \n",
       "2               4.4         Green   Very Good   270  \n",
       "\n",
       "[3 rows x 21 columns]"
      ]
     },
     "execution_count": 29,
     "metadata": {},
     "output_type": "execute_result"
    }
   ],
   "source": [
    "data.head(3)"
   ]
  },
  {
   "cell_type": "code",
   "execution_count": 30,
   "id": "62f4129a-bc98-47f9-a427-e6a5656d96ad",
   "metadata": {},
   "outputs": [
    {
     "name": "stdout",
     "output_type": "stream",
     "text": [
      "<class 'pandas.core.frame.DataFrame'>\n",
      "RangeIndex: 9551 entries, 0 to 9550\n",
      "Data columns (total 21 columns):\n",
      " #   Column                Non-Null Count  Dtype  \n",
      "---  ------                --------------  -----  \n",
      " 0   Restaurant ID         9551 non-null   int64  \n",
      " 1   Restaurant Name       9551 non-null   object \n",
      " 2   Country Code          9551 non-null   int64  \n",
      " 3   City                  9551 non-null   object \n",
      " 4   Address               9551 non-null   object \n",
      " 5   Locality              9551 non-null   object \n",
      " 6   Locality Verbose      9551 non-null   object \n",
      " 7   Longitude             9551 non-null   float64\n",
      " 8   Latitude              9551 non-null   float64\n",
      " 9   Cuisines              9542 non-null   object \n",
      " 10  Average Cost for two  9551 non-null   int64  \n",
      " 11  Currency              9551 non-null   object \n",
      " 12  Has Table booking     9551 non-null   object \n",
      " 13  Has Online delivery   9551 non-null   object \n",
      " 14  Is delivering now     9551 non-null   object \n",
      " 15  Switch to order menu  9551 non-null   object \n",
      " 16  Price range           9551 non-null   int64  \n",
      " 17  Aggregate rating      9551 non-null   float64\n",
      " 18  Rating color          9551 non-null   object \n",
      " 19  Rating text           9551 non-null   object \n",
      " 20  Votes                 9551 non-null   int64  \n",
      "dtypes: float64(3), int64(5), object(13)\n",
      "memory usage: 1.5+ MB\n"
     ]
    }
   ],
   "source": [
    "data.info()"
   ]
  },
  {
   "cell_type": "markdown",
   "id": "a5056fcf-2dac-4e96-9096-093590380af8",
   "metadata": {},
   "source": [
    "# Task 1: Top Cuisines "
   ]
  },
  {
   "cell_type": "markdown",
   "id": "fbfa4adb-1c6e-4188-90f5-77adfb809f84",
   "metadata": {},
   "source": [
    "**Q. Determine the top three most common cuisines in the dataset**"
   ]
  },
  {
   "cell_type": "code",
   "execution_count": 31,
   "id": "890f0c71-2f25-4e5c-ab7e-14e9d2881b31",
   "metadata": {},
   "outputs": [],
   "source": [
    "data_cleaned = data.dropna(subset=['Cuisines'])"
   ]
  },
  {
   "cell_type": "code",
   "execution_count": 32,
   "id": "a3f8e6a8-c0ce-47a4-9955-f2e706a07936",
   "metadata": {},
   "outputs": [],
   "source": [
    "data_cleaned = data_cleaned.drop_duplicates(keep='first')"
   ]
  },
  {
   "cell_type": "code",
   "execution_count": 33,
   "id": "e5ad4414-1394-4d87-906b-d76bffc9eae6",
   "metadata": {},
   "outputs": [],
   "source": [
    "cuisine_counts = data_cleaned['Cuisines'].str.split(', ').explode().value_counts()\n",
    "top_cuisines = cuisine_counts.head(3)"
   ]
  },
  {
   "cell_type": "code",
   "execution_count": 34,
   "id": "872b7f70-25dd-4bd4-83cd-3b55d8c5b9aa",
   "metadata": {},
   "outputs": [
    {
     "data": {
      "text/plain": [
       "Cuisines\n",
       "North Indian    3960\n",
       "Chinese         2735\n",
       "Fast Food       1986\n",
       "Name: count, dtype: int64"
      ]
     },
     "execution_count": 34,
     "metadata": {},
     "output_type": "execute_result"
    }
   ],
   "source": [
    "top_cuisines"
   ]
  },
  {
   "cell_type": "markdown",
   "id": "32f746c5-529f-45d9-b220-d543ff7a0d0f",
   "metadata": {},
   "source": [
    "**Q. Calculate the percentage of restaurants that serve each of the top cuisines.**"
   ]
  },
  {
   "cell_type": "code",
   "execution_count": 35,
   "id": "0ec14bf2-d021-4eb1-b92a-50487e666b47",
   "metadata": {
    "scrolled": true
   },
   "outputs": [
    {
     "name": "stdout",
     "output_type": "stream",
     "text": [
      "Restaurant serving North Indian cuisine (41.50% of total):\n",
      "Gazebo\n",
      "\n",
      "\n",
      "Restaurant serving Chinese cuisine (28.64% of total):\n",
      "Din Tai Fung\n",
      "\n",
      "\n",
      "Restaurant serving Fast Food cuisine (20.82% of total):\n",
      "Chez Michou\n",
      "\n",
      "\n"
     ]
    }
   ],
   "source": [
    "top_cuisines_restaurants = {}\n",
    "\n",
    "total_restaurants = len(data_cleaned)\n",
    "\n",
    "for cuisine in top_cuisines.index:\n",
    "    restaurants_serving_cuisine = data_cleaned[data_cleaned['Cuisines'].str.contains(cuisine)]\n",
    "    top_cuisines_restaurants[cuisine] = restaurants_serving_cuisine\n",
    "\n",
    "for cuisine, restaurants in top_cuisines_restaurants.items():\n",
    "    num_restaurants_serving_cuisine = len(restaurants)\n",
    "    percentage_serving_cuisine = (num_restaurants_serving_cuisine / total_restaurants) * 100\n",
    "    \n",
    "    print(f\"Restaurant serving {cuisine} cuisine ({percentage_serving_cuisine:.2f}% of total):\")\n",
    "    print(restaurants.iloc[0]['Restaurant Name'])\n",
    "    print(\"\\n\")\n"
   ]
  },
  {
   "cell_type": "markdown",
   "id": "c2f9a38b-7517-47b1-a7a5-91e16ab8525e",
   "metadata": {
    "scrolled": true
   },
   "source": [
    "# Task 2 : City Analysis"
   ]
  },
  {
   "cell_type": "markdown",
   "id": "7cf54674-5d45-4ae9-aee1-8d8193370192",
   "metadata": {},
   "source": [
    "**Q. Identify the city with the highest number\n",
    "of restaurants in the dataset.**"
   ]
  },
  {
   "cell_type": "code",
   "execution_count": 36,
   "id": "af4105cc-0992-426f-be18-8d71e5f5a273",
   "metadata": {
    "scrolled": true
   },
   "outputs": [
    {
     "name": "stdout",
     "output_type": "stream",
     "text": [
      "The city with the highest number of restaurants is New Delhi with 5473 restaurants.\n"
     ]
    }
   ],
   "source": [
    "city_counts = data_cleaned['City'].value_counts()\n",
    "\n",
    "city_with_highest_restaurants = city_counts.idxmax()\n",
    "highest_count = city_counts.max()\n",
    "\n",
    "print(f\"The city with the highest number of restaurants is {city_with_highest_restaurants} with {highest_count} restaurants.\")\n"
   ]
  },
  {
   "cell_type": "markdown",
   "id": "138c9f20-b2a6-4194-aa60-636eb3bee96f",
   "metadata": {},
   "source": [
    "**Q. Calculate the average rating for\n",
    "restaurants in each city.**"
   ]
  },
  {
   "cell_type": "code",
   "execution_count": 37,
   "id": "e860e795-f1a4-47d3-8712-7260ac440a79",
   "metadata": {
    "scrolled": true
   },
   "outputs": [
    {
     "name": "stdout",
     "output_type": "stream",
     "text": [
      "City\n",
      "Abu Dhabi          4.300000\n",
      "Agra               3.965000\n",
      "Ahmedabad          4.161905\n",
      "Albany             3.552941\n",
      "Allahabad          3.395000\n",
      "                     ...   \n",
      "Weirton            3.900000\n",
      "Wellington City    4.250000\n",
      "Winchester Bay     3.200000\n",
      "Yorkton            3.300000\n",
      "��stanbul          4.292857\n",
      "Name: Aggregate rating, Length: 140, dtype: float64\n"
     ]
    }
   ],
   "source": [
    "average_ratings_per_city = data_cleaned.groupby('City')['Aggregate rating'].mean()\n",
    "\n",
    "print(average_ratings_per_city)\n"
   ]
  },
  {
   "cell_type": "markdown",
   "id": "81a04eb7-2861-4ec1-9518-97075c314ce8",
   "metadata": {},
   "source": [
    "**Q. Determine the city with the highest\n",
    "average rating.**"
   ]
  },
  {
   "cell_type": "code",
   "execution_count": 38,
   "id": "84a15fe0-a318-476f-898b-2f8e52a63c32",
   "metadata": {},
   "outputs": [
    {
     "name": "stdout",
     "output_type": "stream",
     "text": [
      "The city with the highest average rating is Inner City with an average rating of 4.90.\n"
     ]
    }
   ],
   "source": [
    "city_with_highest_avg_rating = average_ratings_per_city.idxmax()\n",
    "highest_avg_rating = average_ratings_per_city.max()\n",
    "\n",
    "\n",
    "print(f\"The city with the highest average rating is {city_with_highest_avg_rating} with an average rating of {highest_avg_rating:.2f}.\")\n"
   ]
  },
  {
   "cell_type": "markdown",
   "id": "0a4b0502-4c19-4278-83cd-b0a0cb6b8cfc",
   "metadata": {},
   "source": [
    "# Task 3: Price Range Distribution"
   ]
  },
  {
   "cell_type": "markdown",
   "id": "e7c7e99e-f4d8-4ac5-85ff-7e4c1bf81e05",
   "metadata": {},
   "source": [
    "**Q. Create a histogram or bar chart to visualize the distribution of price ranges among the restaurants.**"
   ]
  },
  {
   "cell_type": "code",
   "execution_count": 39,
   "id": "f33934c4-eacb-4b41-a9a6-c805a1193791",
   "metadata": {
    "scrolled": true
   },
   "outputs": [
    {
     "data": {
      "image/png": "[encoded data removed]",
      "text/plain": [
       "<Figure size 800x600 with 1 Axes>"
      ]
     },
     "metadata": {},
     "output_type": "display_data"
    }
   ],
   "source": [
    "import matplotlib.pyplot as plt\n",
    "import seaborn as sns\n",
    "price_range_counts = data_cleaned['Price range'].value_counts()\n",
    "\n",
    "plt.figure(figsize=(8, 6))\n",
    "ax = sns.barplot(x=price_range_counts.index, y=price_range_counts.values, hue=price_range_counts.index, palette='Set2', legend=False)\n",
    "\n",
    "plt.title('Distribution of Price Ranges Among Restaurants', fontsize=14)\n",
    "plt.xlabel('Price Range', fontsize=12)\n",
    "plt.ylabel('Number of Restaurants', fontsize=12)\n",
    "\n",
    "for p in ax.patches:\n",
    "    ax.annotate(f'{p.get_height():,.0f}', \n",
    "                (p.get_x() + p.get_width() / 2., p.get_height()), \n",
    "                ha='center', va='center', \n",
    "                fontsize=12, color='black', \n",
    "                xytext=(0, 8), textcoords='offset points')\n",
    "\n",
    "plt.show()\n"
   ]
  },
  {
   "cell_type": "markdown",
   "id": "c24a0a24-2f19-48f1-b096-a78026e1420f",
   "metadata": {},
   "source": [
    "**Q. Calculate the percentage of restaurants in each price range category.**"
   ]
  },
  {
   "cell_type": "code",
   "execution_count": 40,
   "id": "9d6d233f-50f0-4ed5-8184-01cf751b44ce",
   "metadata": {},
   "outputs": [
    {
     "name": "stdout",
     "output_type": "stream",
     "text": [
      "Price range\n",
      "1    46.510166\n",
      "2    32.624188\n",
      "3    14.724376\n",
      "4     6.141270\n",
      "Name: count, dtype: float64\n"
     ]
    }
   ],
   "source": [
    "total_restaurants = len(data_cleaned)\n",
    "price_range_percentage = (price_range_counts / total_restaurants) * 100\n",
    "\n",
    "print(price_range_percentage)"
   ]
  },
  {
   "cell_type": "markdown",
   "id": "67c7692a-a340-4d54-9ff0-55a0f8ec1411",
   "metadata": {},
   "source": [
    "# Task 4 : Online Delivery"
   ]
  },
  {
   "cell_type": "markdown",
   "id": "5cb261c7-5345-49dc-a5f0-420e2ac1cdb3",
   "metadata": {},
   "source": [
    "**Q. Determine the percentage of restaurants that offer online delivery.**"
   ]
  },
  {
   "cell_type": "code",
   "execution_count": 41,
   "id": "91767872-7642-46d6-97f6-29be52ef2ab5",
   "metadata": {},
   "outputs": [
    {
     "name": "stdout",
     "output_type": "stream",
     "text": [
      "Percentage of restaurants offering online delivery: 25.69%\n"
     ]
    }
   ],
   "source": [
    "restaurants_with_delivery = data_cleaned[data_cleaned['Has Online delivery'] == 'Yes'].shape[0]\n",
    "\n",
    "total_restaurants = len(data_cleaned)\n",
    "\n",
    "percentage_delivery = (restaurants_with_delivery / total_restaurants) * 100\n",
    "print(f\"Percentage of restaurants offering online delivery: {percentage_delivery:.2f}%\")\n"
   ]
  },
  {
   "cell_type": "markdown",
   "id": "6166d56d-fb30-4e3c-9ff8-0e3ccf5040ba",
   "metadata": {},
   "source": [
    "**Q. Compare the average ratings of restaurants with and without online delivery.**"
   ]
  },
  {
   "cell_type": "code",
   "execution_count": 42,
   "id": "1b4cedac-9ffc-4946-9463-9621dfb8a1c2",
   "metadata": {},
   "outputs": [
    {
     "name": "stdout",
     "output_type": "stream",
     "text": [
      "Average rating of restaurants with online delivery: 3.25\n",
      "Average rating of restaurants without online delivery: 2.46\n"
     ]
    }
   ],
   "source": [
    "restaurants_with_delivery = data_cleaned[data_cleaned['Has Online delivery'] == 'Yes']\n",
    "restaurants_without_delivery = data_cleaned[data_cleaned['Has Online delivery'] == 'No']\n",
    "\n",
    "avg_rating_with_delivery = restaurants_with_delivery['Aggregate rating'].mean()\n",
    "avg_rating_without_delivery = restaurants_without_delivery['Aggregate rating'].mean()\n",
    "\n",
    "print(f\"Average rating of restaurants with online delivery: {avg_rating_with_delivery:.2f}\")\n",
    "print(f\"Average rating of restaurants without online delivery: {avg_rating_without_delivery:.2f}\")\n"
   ]
  },
  {
   "cell_type": "code",
   "execution_count": null,
   "id": "005e0236-95b3-4b2d-b3c3-d25b972aabd3",
   "metadata": {},
   "outputs": [],
   "source": []
  }
 ],
 "metadata": {
  "kernelspec": {
   "display_name": "Python 3 (ipykernel)",
   "language": "python",
   "name": "python3"
  },
  "language_info": {
   "codemirror_mode": {
    "name": "ipython",
    "version": 3
   },
   "file_extension": ".py",
   "mimetype": "text/x-python",
   "name": "python",
   "nbconvert_exporter": "python",
   "pygments_lexer": "ipython3",
   "version": "3.13.0"
  }
 },
 "nbformat": 4,
 "nbformat_minor": 5
}
